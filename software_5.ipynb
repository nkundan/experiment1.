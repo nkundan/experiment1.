{
  "nbformat": 4,
  "nbformat_minor": 0,
  "metadata": {
    "colab": {
      "private_outputs": true,
      "provenance": [],
      "authorship_tag": "ABX9TyMMBnx6vw+AHcBOm42hqDsk",
      "include_colab_link": true
    },
    "kernelspec": {
      "name": "python3",
      "display_name": "Python 3"
    },
    "language_info": {
      "name": "python"
    }
  },
  "cells": [
    {
      "cell_type": "markdown",
      "metadata": {
        "id": "view-in-github",
        "colab_type": "text"
      },
      "source": [
        "<a href=\"https://colab.research.google.com/github/nkundan/experiment1./blob/main/software_5.ipynb\" target=\"_parent\"><img src=\"https://colab.research.google.com/assets/colab-badge.svg\" alt=\"Open In Colab\"/></a>"
      ]
    },
    {
      "cell_type": "code",
      "execution_count": null,
      "metadata": {
        "id": "QtcJIwpyZFaY"
      },
      "outputs": [],
      "source": [
        "import numpy as np\n",
        "import matplotlib.pyplot as plt\n",
        "from sklearn.preprocessing import PolynomialFeatures\n",
        "from sklearn.linear_model import LinearRegression\n",
        "from sklearn.metrics import mean_squared_error\n",
        "\n",
        "# Stage 1: Hard-coded data\n",
        "days = np.array([1, 2, 3, 4, 5, 6, 7])\n",
        "temperature = np.array([4, 1, 2, 0, 6, 5, 12])\n",
        "# Reshape for scikit-learn\n",
        "days = days.reshape(-1, 1)\n",
        "temperature = temperature.reshape(-1, 1)\n",
        "\n",
        "# Polynomial features and model\n",
        "poly = PolynomialFeatures(degree=2)\n",
        "days_poly = poly.fit_transform(days)\n",
        "\n",
        "model = LinearRegression()\n",
        "model.fit(days_poly, temperature)\n",
        "temperature_pred = model.predict(days_poly)\n",
        "\n",
        "# Debugging: Print results\n",
        "mse = mean_squared_error(temperature, temperature_pred)\n",
        "print(f\"MSE: {mse}\")\n",
        "print(\"Coefficients:\", model.coef_, \"Intercept:\", model.intercept_)\n",
        "\n",
        "# Visualization\n",
        "plt.scatter(days, temperature, color=\"blue\", label=\"Actual Data\")\n",
        "plt.plot(days, temperature_pred, color=\"red\", label=\"Quadratic Fit\")\n",
        "plt.xlabel(\"Days\")\n",
        "plt.ylabel(\"Temperature\")\n",
        "plt.title(\"Weather Modeling - Hard-coded Data\")\n",
        "plt.legend()\n",
        "plt.show()\n"
      ]
    },
    {
      "cell_type": "code",
      "source": [
        "# Stage 2: Keyboard input\n",
        "days = input(\"Enter days as a space-separated list (e.g., 1 2 3 4 5): \").split()\n",
        "temperature = input(\"Enter corresponding temperatures: \").split()\n",
        "\n",
        "# Convert to numpy arrays\n",
        "days = np.array([int(x) for x in days]).reshape(-1, 1)\n",
        "temperature = np.array([float(x) for x in temperature]).reshape(-1, 1)\n",
        "\n",
        "# Polynomial regression as before\n",
        "poly = PolynomialFeatures(degree=2)\n",
        "days_poly = poly.fit_transform(days)\n",
        "\n",
        "model = LinearRegression()\n",
        "model.fit(days_poly, temperature)\n",
        "temperature_pred = model.predict(days_poly)\n",
        "\n",
        "# Debugging: Print results\n",
        "mse = mean_squared_error(temperature, temperature_pred)\n",
        "print(f\"MSE: {mse}\")\n",
        "print(\"Coefficients:\", model.coef_, \"Intercept:\", model.intercept_)\n",
        "\n",
        "# Visualization\n",
        "plt.scatter(days, temperature, color=\"blue\", label=\"Actual Data\")\n",
        "plt.plot(days, temperature_pred, color=\"red\", label=\"Quadratic Fit\")\n",
        "plt.xlabel(\"Days\")\n",
        "plt.ylabel(\"Temperature\")\n",
        "plt.title(\"Weather Modeling - Keyboard Input\")\n",
        "plt.legend()\n",
        "plt.show()\n"
      ],
      "metadata": {
        "id": "u-u5BdAEZRQk"
      },
      "execution_count": null,
      "outputs": []
    },
    {
      "cell_type": "code",
      "source": [
        "import numpy as np\n",
        "import matplotlib.pyplot as plt\n",
        "\n",
        "# Read coefficients from a file\n",
        "with open(\"/content/input.txt\", \"r\") as file:\n",
        "    line = file.readline()\n",
        "    a, b, c = map(float, line.split())\n",
        "\n",
        "# Define the range for x values\n",
        "x = np.linspace(-10, 10, 100)\n",
        "\n",
        "# Compute the quadratic function\n",
        "y = a * x**2 + b * x + c\n",
        "\n",
        "# Plot the quadratic equation\n",
        "plt.figure(figsize=(8, 6))\n",
        "plt.plot(x, y, label=f\"{a}x² + {b}x + {c}\", color=\"red\")\n",
        "plt.title(\"Quadratic Weather Model (File Input - Single Set)\")\n",
        "plt.xlabel(\"x (e.g., time)\")\n",
        "plt.ylabel(\"y (e.g., temperature)\")\n",
        "plt.axhline(0, color=\"black\", linewidth=0.8, linestyle=\"--\")\n",
        "plt.axvline(0, color=\"black\", linewidth=0.8, linestyle=\"--\")\n",
        "plt.legend()\n",
        "plt.grid()\n",
        "plt.show()"
      ],
      "metadata": {
        "id": "x-yE2n9eZUCt"
      },
      "execution_count": null,
      "outputs": []
    },
    {
      "cell_type": "code",
      "source": [
        "import numpy as np\n",
        "import matplotlib.pyplot as plt\n",
        "\n",
        "# Read coefficients from a file\n",
        "with open(\"/content/ionput.txt\", \"r\") as file:\n",
        "    lines = file.readlines()\n",
        "\n",
        "# Define the range for x values\n",
        "x = np.linspace(-10, 10, 100)\n",
        "\n",
        "plt.figure(figsize=(8, 6))\n",
        "\n",
        "# Loop through each line in the file\n",
        "for line in lines:\n",
        "    a, b, c = map(float, line.split())\n",
        "    y = a * x**2 + b * x + c\n",
        "    plt.plot(x, y, label=f\"{a}x² + {b}x + {c}\")\n",
        "\n",
        "# Plot the quadratic equations\n",
        "plt.title(\"Quadratic Weather Models (Multiple Sets from File)\")\n",
        "plt.xlabel(\"x (e.g., time)\")\n",
        "plt.ylabel(\"y (e.g., temperature)\")\n",
        "plt.axhline(0, color=\"black\", linewidth=0.8, linestyle=\"--\")\n",
        "plt.axvline(0, color=\"black\", linewidth=0.8, linestyle=\"--\")\n",
        "plt.legend()\n",
        "plt.grid()\n",
        "plt.show()"
      ],
      "metadata": {
        "id": "TqybcuuqZWKn"
      },
      "execution_count": null,
      "outputs": []
    },
    {
      "cell_type": "code",
      "source": [
        "# Hardcoded values\n",
        "a, b, c = 3, -2, 10\n",
        "x = 4\n",
        "\n",
        "# Quadratic computation\n",
        "y = a * x**2 + b * x + c\n",
        "print(f\"Result of the quadratic equation: {y}\")"
      ],
      "metadata": {
        "id": "bHR88OiXZYc_"
      },
      "execution_count": null,
      "outputs": []
    }
  ]
}